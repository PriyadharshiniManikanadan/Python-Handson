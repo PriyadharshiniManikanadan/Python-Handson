{
 "cells": [
  {
   "cell_type": "markdown",
   "id": "3e6e3866-3fc0-4f72-98c9-9426725e5478",
   "metadata": {},
   "source": [
    "### Print 0-20 by using range"
   ]
  },
  {
   "cell_type": "code",
   "execution_count": 1,
   "id": "96145b3e-3469-498e-b2c5-1a1ef216da83",
   "metadata": {},
   "outputs": [
    {
     "name": "stdout",
     "output_type": "stream",
     "text": [
      "0\n",
      "1\n",
      "2\n",
      "3\n",
      "4\n",
      "5\n",
      "6\n",
      "7\n",
      "8\n",
      "9\n",
      "10\n",
      "11\n",
      "12\n",
      "13\n",
      "14\n",
      "15\n",
      "16\n",
      "17\n",
      "18\n",
      "19\n"
     ]
    }
   ],
   "source": [
    "for nums in range(0,20):\n",
    "    print(nums)"
   ]
  },
  {
   "cell_type": "markdown",
   "id": "b55aa452-58ba-4265-b8f4-865bb30c8576",
   "metadata": {},
   "source": [
    "### Print range 10-20"
   ]
  },
  {
   "cell_type": "code",
   "execution_count": 2,
   "id": "aa8d4b0c-d95b-4228-bdcb-e28b5f6dcc8d",
   "metadata": {},
   "outputs": [
    {
     "name": "stdout",
     "output_type": "stream",
     "text": [
      "10 11 12 13 14 15 16 17 18 19 "
     ]
    }
   ],
   "source": [
    "for nums in range(10,20):\n",
    "    print(nums, end=' ')"
   ]
  },
  {
   "cell_type": "code",
   "execution_count": 5,
   "id": "47cdc266-81ba-4698-8d33-460233384d82",
   "metadata": {},
   "outputs": [
    {
     "name": "stdout",
     "output_type": "stream",
     "text": [
      "[10, 20, 14, 55, 43, 87, 76]\n",
      "Num of items in the lists 2 :\n",
      "7\n"
     ]
    }
   ],
   "source": [
    "list = [10,20,14,55,43,87,76]\n",
    "print(list)\n",
    "print(\"Num of items in the lists 2 :\")\n",
    "print(len(list))"
   ]
  },
  {
   "cell_type": "code",
   "execution_count": 9,
   "id": "1f1113c8-fe0e-4e16-be72-2f3ca11f2cec",
   "metadata": {},
   "outputs": [
    {
     "name": "stdout",
     "output_type": "stream",
     "text": [
      "A\n",
      "R\n",
      "T\n",
      "I\n",
      "F\n",
      "I\n",
      "C\n",
      "I\n",
      "A\n",
      "L\n",
      " \n",
      "I\n",
      "N\n",
      "T\n",
      "E\n",
      "L\n",
      "L\n",
      "E\n",
      "G\n",
      "E\n",
      "N\n",
      "C\n",
      "E\n"
     ]
    }
   ],
   "source": [
    "for letters in (\"ARTIFICIAL INTELLEGENCE\"):\n",
    "    print(letters)"
   ]
  },
  {
   "cell_type": "code",
   "execution_count": 11,
   "id": "a3e5feaf-6488-454e-b92a-d00566a0b324",
   "metadata": {},
   "outputs": [
    {
     "name": "stdout",
     "output_type": "stream",
     "text": [
      "Priyadharshini Manikandan\n",
      "32\n",
      "Data Analyst\n"
     ]
    }
   ],
   "source": [
    "Biodata = (\"Priyadharshini Manikandan\", 32, \"Data Analyst\")\n",
    "for items in (Biodata):\n",
    "    print(items)"
   ]
  },
  {
   "cell_type": "markdown",
   "id": "92ad178b-fb7a-40e5-a46d-d7964269b3b0",
   "metadata": {},
   "source": [
    "### Mixed datatype using Tuple"
   ]
  },
  {
   "cell_type": "code",
   "execution_count": 14,
   "id": "97016e07-ebcb-47a6-a121-f1f34de3c46e",
   "metadata": {},
   "outputs": [
    {
     "name": "stdout",
     "output_type": "stream",
     "text": [
      "(1, 'Welcome', 2, 'Hope')\n"
     ]
    }
   ],
   "source": [
    "tuple=(1,\"Welcome\", 2, \"Hope\")\n",
    "print(tuple)"
   ]
  },
  {
   "cell_type": "code",
   "execution_count": 16,
   "id": "4a70ed9c-cbf8-4253-b96e-0d42e2c2bb1a",
   "metadata": {},
   "outputs": [
    {
     "name": "stdout",
     "output_type": "stream",
     "text": [
      "((0, 1, 2, 3), ('Python', 'HOPE'))\n"
     ]
    }
   ],
   "source": [
    "tuple1 = (0,1,2,3)\n",
    "tuple2 = ('Python','HOPE')\n",
    "tuple3 = (tuple1,tuple2)\n",
    "print(tuple3)"
   ]
  },
  {
   "cell_type": "markdown",
   "id": "e50a9abe-a3ea-471b-bed5-2b1996dab831",
   "metadata": {},
   "source": [
    "### Print odd nums in the lists"
   ]
  },
  {
   "cell_type": "code",
   "execution_count": 29,
   "id": "d9f524ac-424c-403f-8694-d02f27adfa65",
   "metadata": {},
   "outputs": [
    {
     "name": "stdout",
     "output_type": "stream",
     "text": [
      "(20, 10, 16, 19, 25, 1, 276, 188)\n",
      "19 is Odd\n",
      "25 is Odd\n",
      "1 is Odd\n"
     ]
    }
   ],
   "source": [
    "list=(20,10,16,19,25,1,276,188)\n",
    "print(list)\n",
    "for nums in list:\n",
    "    if nums % 2 !=0:\n",
    "        print(nums, \"is Odd\")"
   ]
  },
  {
   "cell_type": "markdown",
   "id": "4e184c06-31dd-4ed4-909c-a3e675c85f39",
   "metadata": {},
   "source": [
    "### Print Even numbers in the list"
   ]
  },
  {
   "cell_type": "code",
   "execution_count": 30,
   "id": "bc56fb07-c4a3-403c-a409-084bcfb59c68",
   "metadata": {},
   "outputs": [
    {
     "name": "stdout",
     "output_type": "stream",
     "text": [
      "(20, 10, 16, 19, 25, 1, 276, 188)\n",
      "20 is Even\n",
      "10 is Even\n",
      "16 is Even\n",
      "276 is Even\n",
      "188 is Even\n"
     ]
    }
   ],
   "source": [
    "list=(20,10,16,19,25,1,276,188)\n",
    "print(list)\n",
    "for nums in list:\n",
    "    if nums % 2 == 0:\n",
    "        print(nums,\"is Even\")"
   ]
  },
  {
   "cell_type": "code",
   "execution_count": null,
   "id": "cba4e125-0639-4bae-b322-9b8b622aa6c3",
   "metadata": {},
   "outputs": [],
   "source": []
  },
  {
   "cell_type": "code",
   "execution_count": null,
   "id": "6af4eca4-f18d-483a-9ffd-8a02ec5239be",
   "metadata": {},
   "outputs": [],
   "source": []
  },
  {
   "cell_type": "code",
   "execution_count": null,
   "id": "2cbb378f-ec98-4200-8c8a-176a54cd6e1d",
   "metadata": {},
   "outputs": [],
   "source": []
  }
 ],
 "metadata": {
  "kernelspec": {
   "display_name": "Python 3 (ipykernel)",
   "language": "python",
   "name": "python3"
  },
  "language_info": {
   "codemirror_mode": {
    "name": "ipython",
    "version": 3
   },
   "file_extension": ".py",
   "mimetype": "text/x-python",
   "name": "python",
   "nbconvert_exporter": "python",
   "pygments_lexer": "ipython3",
   "version": "3.12.4"
  }
 },
 "nbformat": 4,
 "nbformat_minor": 5
}
