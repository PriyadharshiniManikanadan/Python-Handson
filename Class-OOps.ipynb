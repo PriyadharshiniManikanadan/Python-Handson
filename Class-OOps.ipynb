{
 "cells": [
  {
   "cell_type": "code",
   "execution_count": 39,
   "id": "f92af932-1e74-41c6-a1aa-b404da72792a",
   "metadata": {},
   "outputs": [],
   "source": [
    "class SubfieldsInAI:\n",
    "    def Subfields():\n",
    "        lists = [\"Machine Learning\", \"Neural Networks\", \"Vision\", \"Robotics\", \"Speech Processing\", \"Natural Language Processing\"]\n",
    "        print(\"Sub-fields in AI are: \")\n",
    "        for items in lists:\n",
    "            print(items)"
   ]
  },
  {
   "cell_type": "code",
   "execution_count": 17,
   "id": "1fb5c044-8289-41b4-b211-304449e3cde2",
   "metadata": {},
   "outputs": [
    {
     "name": "stdout",
     "output_type": "stream",
     "text": [
      "Sub-fields in AI are: \n",
      "Machine Learning\n",
      "Neural Networks\n",
      "Vision\n",
      "Robotics\n",
      "Speech Processing\n",
      "Natural Language Processing\n"
     ]
    }
   ],
   "source": [
    "SubfieldsInAI.Subfields()"
   ]
  },
  {
   "cell_type": "code",
   "execution_count": 40,
   "id": "c18acde7-5de1-418d-b4e1-2eb99b80d147",
   "metadata": {},
   "outputs": [],
   "source": [
    "class OddEven:\n",
    "    def OddEven():\n",
    "        num = int(input(\"Enter a number:\"))\n",
    "        if (num%2)==1:\n",
    "            print(num, \"is Odd Number\")\n",
    "            number=\"OddNum\"\n",
    "        else:\n",
    "            print(num,\"is Even number\")\n",
    "            number=\"EvenNum\""
   ]
  },
  {
   "cell_type": "code",
   "execution_count": 41,
   "id": "0cc16ff2-5214-427d-b946-b472a889b051",
   "metadata": {},
   "outputs": [
    {
     "name": "stdin",
     "output_type": "stream",
     "text": [
      "Enter a number: 52452\n"
     ]
    },
    {
     "name": "stdout",
     "output_type": "stream",
     "text": [
      "52452 is Even number\n"
     ]
    }
   ],
   "source": [
    "OddEven.OddEven()"
   ]
  },
  {
   "cell_type": "code",
   "execution_count": 46,
   "id": "989013ba-89af-436c-a3b0-9f0e9b9fee29",
   "metadata": {},
   "outputs": [],
   "source": [
    "class ElegiblityForMarriage:\n",
    "    def Eligible():\n",
    "        Gender=input(\"Your Gender: \")\n",
    "        Age=int(input('Your age: '))\n",
    "        if Gender== \"Male\":\n",
    "            if Age >= 21: \n",
    "                print(\"Eligible\")\n",
    "                Marriage='Eligible'\n",
    "            else:\n",
    "                print(\"NOT Eligible\")\n",
    "                Marriage= 'NOT Eligible'    \n",
    "        else:\n",
    "            if Age >= 18: \n",
    "                print(\"Eligible\")\n",
    "                Marriage='Eligible'\n",
    "            else:\n",
    "                print(\"NOT Eligible\")\n",
    "                Marriage= 'NOT Eligible'"
   ]
  },
  {
   "cell_type": "code",
   "execution_count": 47,
   "id": "ccfadb36-6173-4ae1-8250-276b4c64da0f",
   "metadata": {},
   "outputs": [
    {
     "name": "stdin",
     "output_type": "stream",
     "text": [
      "Your Gender:  Male\n",
      "Your age:  20\n"
     ]
    },
    {
     "name": "stdout",
     "output_type": "stream",
     "text": [
      "NOT Eligible\n"
     ]
    }
   ],
   "source": [
    "ElegiblityForMarriage.Eligible()"
   ]
  },
  {
   "cell_type": "code",
   "execution_count": 34,
   "id": "f1f7c791-4652-4edd-817b-adc587f2d54e",
   "metadata": {},
   "outputs": [],
   "source": [
    "class FindPercent:\n",
    "    def Percentage():\n",
    "        sub1 = int(input(\"Subject1 = \"))\n",
    "        sub2 = int(input(\"Subject2 = \"))\n",
    "        sub3 = int(input(\"Subject3 = \"))\n",
    "        sub4 = int(input(\"Subject4 = \"))\n",
    "        sub5 = int(input(\"Subject5 = \"))\n",
    "        Total = sub1+sub2+sub3+sub4+sub5\n",
    "        print(\"Total:\", Total)\n",
    "        Percentage = print(\"Percentage = \", (Total/5))\n",
    "        return Percentage"
   ]
  },
  {
   "cell_type": "code",
   "execution_count": 35,
   "id": "769b4b44-d5a2-4b32-a890-bbca4809cfa3",
   "metadata": {},
   "outputs": [
    {
     "name": "stdin",
     "output_type": "stream",
     "text": [
      "Subject1 =  98\n",
      "Subject2 =  87\n",
      "Subject3 =  95\n",
      "Subject4 =  95\n",
      "Subject5 =  93\n"
     ]
    },
    {
     "name": "stdout",
     "output_type": "stream",
     "text": [
      "Total: 468\n",
      "Percentage =  93.6\n"
     ]
    }
   ],
   "source": [
    "FindPercent.Percentage()"
   ]
  },
  {
   "cell_type": "code",
   "execution_count": 37,
   "id": "128e8972-024b-4d25-b4c5-dd1d907e0d55",
   "metadata": {},
   "outputs": [],
   "source": [
    "class Triangle:\n",
    "    def triangle():\n",
    "        height = int(input(\"Height : \"))\n",
    "        breadth = int(input(\"Breadth : \"))\n",
    "        print(\"Area formula: (Height*Breadth)/2\")\n",
    "        AreaofTriangle = print(\"Area of Triangle = \", (height*breadth)/2)\n",
    "        Triangle = AreaofTriangle\n",
    "    \n",
    "        height1 = int(input(\"Height1 : \"))\n",
    "        height2 = int(input(\"Height2 : \"))\n",
    "        breadth = int(input(\"Breadth : \"))\n",
    "        print(\"Perimeter formula: Height1+Height2+Breadth\")\n",
    "        PerimeterofTriangle = print(\"Perimeter of Triangle: \", height1+height2+breadth)\n",
    "        Triangle = PerimeterofTriangle\n",
    "        return Triangle"
   ]
  },
  {
   "cell_type": "code",
   "execution_count": 38,
   "id": "0a0ff896-199f-40e4-8012-c2630e878614",
   "metadata": {},
   "outputs": [
    {
     "name": "stdin",
     "output_type": "stream",
     "text": [
      "Height :  34\n",
      "Breadth :  32\n"
     ]
    },
    {
     "name": "stdout",
     "output_type": "stream",
     "text": [
      "Area formula: (Height*Breadth)/2\n",
      "Area of Triangle =  544.0\n"
     ]
    },
    {
     "name": "stdin",
     "output_type": "stream",
     "text": [
      "Height1 :  2\n",
      "Height2 :  4\n",
      "Breadth :  4\n"
     ]
    },
    {
     "name": "stdout",
     "output_type": "stream",
     "text": [
      "Perimeter formula: Height1+Height2+Breadth\n",
      "Perimeter of Triangle:  10\n"
     ]
    }
   ],
   "source": [
    "Triangle.triangle()"
   ]
  },
  {
   "cell_type": "code",
   "execution_count": null,
   "id": "a2c3a91a-bdf9-42d1-a3c7-9efa1613f0e0",
   "metadata": {},
   "outputs": [],
   "source": []
  }
 ],
 "metadata": {
  "kernelspec": {
   "display_name": "Python 3 (ipykernel)",
   "language": "python",
   "name": "python3"
  },
  "language_info": {
   "codemirror_mode": {
    "name": "ipython",
    "version": 3
   },
   "file_extension": ".py",
   "mimetype": "text/x-python",
   "name": "python",
   "nbconvert_exporter": "python",
   "pygments_lexer": "ipython3",
   "version": "3.12.4"
  }
 },
 "nbformat": 4,
 "nbformat_minor": 5
}
