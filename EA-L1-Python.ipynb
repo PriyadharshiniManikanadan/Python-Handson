{
 "cells": [
  {
   "cell_type": "markdown",
   "id": "f92642ec-f7d9-41c7-b162-151f5091d4f3",
   "metadata": {},
   "source": [
    "#### Print statement"
   ]
  },
  {
   "cell_type": "code",
   "execution_count": 1,
   "id": "c7e7383b-e42b-475c-ad26-9f4a084c7c6e",
   "metadata": {},
   "outputs": [
    {
     "name": "stdout",
     "output_type": "stream",
     "text": [
      "HOPE AI\n"
     ]
    }
   ],
   "source": [
    "print(\"HOPE AI\")"
   ]
  },
  {
   "cell_type": "markdown",
   "id": "ac47bd63-2ef7-40cd-a2ff-e5e32bd891ef",
   "metadata": {},
   "source": [
    "#### Buy inputs"
   ]
  },
  {
   "cell_type": "code",
   "execution_count": 2,
   "id": "96ff8fa4-6f77-4818-9e83-bb853645c370",
   "metadata": {},
   "outputs": [
    {
     "name": "stdin",
     "output_type": "stream",
     "text": [
      "Enter your institute name? : HOPE AI\n"
     ]
    }
   ],
   "source": [
    "institute=input(\"Enter your institute name? :\")"
   ]
  },
  {
   "cell_type": "code",
   "execution_count": 3,
   "id": "e52c7eb0-0fa5-4293-b30d-30b6f71e6cb5",
   "metadata": {
    "scrolled": true
   },
   "outputs": [
    {
     "name": "stdin",
     "output_type": "stream",
     "text": [
      "Enter your name? : Priyadharshini Manikandan\n",
      "Enter your age? : 32\n",
      "Enter your school name? : Fracis Xavier\n",
      "Enter your degree? : M.Sc. Medical Bioinformatics\n"
     ]
    }
   ],
   "source": [
    "name=input(\"Enter your name? :\")\n",
    "age=int(input(\"Enter your age? :\"))\n",
    "school=input(\"Enter your school name? :\")\n",
    "degree=input(\"Enter your degree? :\")"
   ]
  },
  {
   "cell_type": "markdown",
   "id": "bbab96f2-3be8-4f00-8855-1322b996e841",
   "metadata": {},
   "source": [
    "#### Addition"
   ]
  },
  {
   "cell_type": "code",
   "execution_count": 6,
   "id": "a4760b9d-932a-4f97-87e9-5b950fbe920a",
   "metadata": {},
   "outputs": [
    {
     "name": "stdin",
     "output_type": "stream",
     "text": [
      "a=  43\n",
      "b=  34\n"
     ]
    },
    {
     "name": "stdout",
     "output_type": "stream",
     "text": [
      "add=  77\n"
     ]
    }
   ],
   "source": [
    "num1=int(input(\"a= \"))\n",
    "num2=int(input(\"b= \"))\n",
    "addition=num1+num2\n",
    "print(\"add= \", addition)"
   ]
  },
  {
   "cell_type": "markdown",
   "id": "d7426fdb-017b-4439-9998-9aaf26fdaa82",
   "metadata": {},
   "source": [
    "#### Subtraction"
   ]
  },
  {
   "cell_type": "code",
   "execution_count": 7,
   "id": "44870ef0-cd70-4ae0-9d27-c9c696fbb329",
   "metadata": {},
   "outputs": [
    {
     "name": "stdin",
     "output_type": "stream",
     "text": [
      "a=  43\n",
      "b=  34\n"
     ]
    },
    {
     "name": "stdout",
     "output_type": "stream",
     "text": [
      "sub=  9\n"
     ]
    }
   ],
   "source": [
    "num1=int(input(\"a= \"))\n",
    "num2=int(input(\"b= \"))\n",
    "subtraction=num1-num2\n",
    "print(\"sub= \", subtraction)"
   ]
  },
  {
   "cell_type": "markdown",
   "id": "a3d20c4e-1672-41ac-9de9-ec01e9c94f07",
   "metadata": {},
   "source": [
    "#### Multiplication"
   ]
  },
  {
   "cell_type": "code",
   "execution_count": 8,
   "id": "fdeb87e9-bc57-4ae7-ac9e-28f300f57186",
   "metadata": {},
   "outputs": [
    {
     "name": "stdin",
     "output_type": "stream",
     "text": [
      "a=  63\n",
      "b=  97\n"
     ]
    },
    {
     "name": "stdout",
     "output_type": "stream",
     "text": [
      "mul=  6111\n"
     ]
    }
   ],
   "source": [
    "num1=int(input(\"a= \"))\n",
    "num2=int(input(\"b= \"))\n",
    "multiplication=num1*num2\n",
    "print(\"mul= \", multiplication)"
   ]
  },
  {
   "cell_type": "markdown",
   "id": "ad3e8aa2-46a7-4d37-9a5e-c405a8cffabe",
   "metadata": {},
   "source": [
    "#### Division"
   ]
  },
  {
   "cell_type": "code",
   "execution_count": 9,
   "id": "8b979fbb-c1da-47b9-a0ae-f77d796b585e",
   "metadata": {},
   "outputs": [
    {
     "name": "stdin",
     "output_type": "stream",
     "text": [
      "a=  76\n",
      "b=  31\n"
     ]
    },
    {
     "name": "stdout",
     "output_type": "stream",
     "text": [
      "div=  2.4516129032258065\n"
     ]
    }
   ],
   "source": [
    "num1=int(input(\"a= \"))\n",
    "num2=int(input(\"b= \"))\n",
    "division=num1/num2\n",
    "print(\"div= \", division)"
   ]
  },
  {
   "cell_type": "markdown",
   "id": "285029ae-416f-4c46-90af-5ebc9513e8ef",
   "metadata": {},
   "source": [
    "#### Floor division"
   ]
  },
  {
   "cell_type": "code",
   "execution_count": 12,
   "id": "484e874a-8226-404a-bcdb-58172e31eca1",
   "metadata": {},
   "outputs": [
    {
     "name": "stdin",
     "output_type": "stream",
     "text": [
      "a=  73\n",
      "b=  31\n"
     ]
    },
    {
     "name": "stdout",
     "output_type": "stream",
     "text": [
      "Floor Div=  2\n"
     ]
    }
   ],
   "source": [
    "num1=int(input(\"a= \"))\n",
    "mum2=int(input(\"b= \"))\n",
    "Floordiv = num1//num2\n",
    "print(\"Floor Div= \", Floordiv)"
   ]
  },
  {
   "cell_type": "markdown",
   "id": "d6a021d3-0df6-4d33-a778-9d77af4d96d8",
   "metadata": {},
   "source": [
    "#### Modulo"
   ]
  },
  {
   "cell_type": "code",
   "execution_count": 14,
   "id": "28db64bd-7530-4aee-ad90-c4c82f6904bb",
   "metadata": {},
   "outputs": [
    {
     "name": "stdin",
     "output_type": "stream",
     "text": [
      "a=  76\n",
      "b=  31\n"
     ]
    },
    {
     "name": "stdout",
     "output_type": "stream",
     "text": [
      "Modulo=  14\n"
     ]
    }
   ],
   "source": [
    "num1=int(input(\"a= \"))\n",
    "mum2=int(input(\"b= \"))\n",
    "Modulo = num1%num2\n",
    "print(\"Modulo= \", Modulo)"
   ]
  },
  {
   "cell_type": "markdown",
   "id": "f5672af6-d61c-4085-97b1-ae668f35e5eb",
   "metadata": {},
   "source": [
    "#### Power"
   ]
  },
  {
   "cell_type": "code",
   "execution_count": 15,
   "id": "975f5866-732d-4e1b-bc32-1cca011976bf",
   "metadata": {},
   "outputs": [
    {
     "name": "stdin",
     "output_type": "stream",
     "text": [
      "a=  4\n",
      "b=  4\n"
     ]
    },
    {
     "name": "stdout",
     "output_type": "stream",
     "text": [
      "Power=  256\n"
     ]
    }
   ],
   "source": [
    "num1=int(input(\"a= \"))\n",
    "num2=int(input(\"b= \"))\n",
    "power = num1**num2\n",
    "print(\"Power= \", power)"
   ]
  },
  {
   "cell_type": "code",
   "execution_count": null,
   "id": "03a1b973-8a4b-4ee7-9dc2-bd52900460f6",
   "metadata": {},
   "outputs": [],
   "source": []
  }
 ],
 "metadata": {
  "kernelspec": {
   "display_name": "Python 3 (ipykernel)",
   "language": "python",
   "name": "python3"
  },
  "language_info": {
   "codemirror_mode": {
    "name": "ipython",
    "version": 3
   },
   "file_extension": ".py",
   "mimetype": "text/x-python",
   "name": "python",
   "nbconvert_exporter": "python",
   "pygments_lexer": "ipython3",
   "version": "3.12.4"
  }
 },
 "nbformat": 4,
 "nbformat_minor": 5
}
