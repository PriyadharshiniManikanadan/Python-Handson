{
 "cells": [
  {
   "cell_type": "markdown",
   "id": "d052a580-5213-42b5-a1c8-605eb34504b7",
   "metadata": {},
   "source": [
    "### Create a function, and list out the items in the list"
   ]
  },
  {
   "cell_type": "code",
   "execution_count": 75,
   "id": "44b0ca61-46dc-490e-b59c-fc75d1bdc351",
   "metadata": {},
   "outputs": [],
   "source": [
    "def Subfields():\n",
    "   lists = [\"Machine Learning\",\"Neural Networks\",\"Vision\",\"Robotics\",\"Speech Processing\",\"Natural Language Processing\"]\n",
    "   print(\"Sub-fields in AI are: \")\n",
    "   for items in lists:\n",
    "       print(items)"
   ]
  },
  {
   "cell_type": "code",
   "execution_count": 76,
   "id": "3d2710cb-3a4a-40d0-b14b-c6ea08822354",
   "metadata": {},
   "outputs": [
    {
     "name": "stdout",
     "output_type": "stream",
     "text": [
      "Sub-fields in AI are: \n",
      "Machine Learning\n",
      "Neural Networks\n",
      "Vision\n",
      "Robotics\n",
      "Speech Processing\n",
      "Natural Language Processing\n"
     ]
    }
   ],
   "source": [
    "Subfields()"
   ]
  },
  {
   "cell_type": "markdown",
   "id": "1f4acef6-35ce-4bb6-b914-d7b0ed201319",
   "metadata": {},
   "source": [
    "### Create a function that checks whether the given number is Odd or Even\n"
   ]
  },
  {
   "cell_type": "code",
   "execution_count": 86,
   "id": "d605af24-52fc-4357-b67f-24cdeaef0c90",
   "metadata": {},
   "outputs": [],
   "source": [
    "def OddEven():\n",
    "    num = int(input(\"Enter a number:\"))\n",
    "    if (num%2)==1:\n",
    "        print(num, \"is Odd Number\")\n",
    "        number=\"OddNum\"\n",
    "    else:\n",
    "        print(num,\"is Even number\")\n",
    "        number=\"EvenNum\"\n",
    "        "
   ]
  },
  {
   "cell_type": "code",
   "execution_count": 87,
   "id": "130f1c77-1ee8-40d2-9438-4486c512af47",
   "metadata": {},
   "outputs": [
    {
     "name": "stdin",
     "output_type": "stream",
     "text": [
      "Enter a number: 52452\n"
     ]
    },
    {
     "name": "stdout",
     "output_type": "stream",
     "text": [
      "52452 is Even number\n"
     ]
    }
   ],
   "source": [
    "OddEven()"
   ]
  },
  {
   "cell_type": "markdown",
   "id": "880aaeb3-c971-4130-82a4-3b034c87931e",
   "metadata": {},
   "source": [
    "### Create a function that tells elegibility of marriage for male and female according to their age limit like 21 for male and 18 for female\n"
   ]
  },
  {
   "cell_type": "code",
   "execution_count": 88,
   "id": "9d86b266-bd2f-4010-b5de-ea94a4e64c05",
   "metadata": {},
   "outputs": [],
   "source": [
    "def Eligible():\n",
    "    Gender=input(\"Your Gender: \")\n",
    "    Age=int(input('Your age: '))\n",
    "    if Gender== \"male\":\n",
    "        if Age >= 21: \n",
    "            print(\"Eligible\")\n",
    "            Marriage='Eligible'\n",
    "        else:\n",
    "            print(\"NOT Eligible\")\n",
    "            Marriage= 'NOT Eligible'\n",
    "            return Marriage\n",
    "    else:\n",
    "        if Age >= 18: \n",
    "            print(\"Eligible\")\n",
    "            Marriage='Eligible'\n",
    "        else:\n",
    "            print(\"NOT Eligible\")\n",
    "            Marriage= 'NOT Eligible'\n",
    "            return Marriage    \n",
    "    "
   ]
  },
  {
   "cell_type": "code",
   "execution_count": 89,
   "id": "6503ebd9-b942-4a30-92f7-015377122d19",
   "metadata": {},
   "outputs": [
    {
     "name": "stdin",
     "output_type": "stream",
     "text": [
      "Your Gender:  male\n",
      "Your age:  26\n"
     ]
    },
    {
     "name": "stdout",
     "output_type": "stream",
     "text": [
      "Eligible\n"
     ]
    }
   ],
   "source": [
    "Eligible()"
   ]
  },
  {
   "cell_type": "markdown",
   "id": "98891be4-8196-4d21-b094-2011e8f551a5",
   "metadata": {},
   "source": [
    "### calculate the percentage of your 10th mark\n"
   ]
  },
  {
   "cell_type": "code",
   "execution_count": 72,
   "id": "618d5008-ce06-40a0-a4b0-de4ebbdafbc5",
   "metadata": {},
   "outputs": [],
   "source": [
    "def Percentage():\n",
    "    sub1 = int(input(\"Subject1 = \"))\n",
    "    sub2 = int(input(\"Subject2 = \"))\n",
    "    sub3 = int(input(\"Subject3 = \"))\n",
    "    sub4 = int(input(\"Subject4 = \"))\n",
    "    sub5 = int(input(\"Subject5 = \"))\n",
    "    Total = sub1+sub2+sub3+sub4+sub5\n",
    "    print(\"Total:\", Total)\n",
    "    Percentage = print(\"Percentage = \", (Total/5))\n",
    "    return Percentage\n"
   ]
  },
  {
   "cell_type": "code",
   "execution_count": 73,
   "id": "2d572672-70b2-4c97-94f9-dbb6a0467b97",
   "metadata": {},
   "outputs": [
    {
     "name": "stdin",
     "output_type": "stream",
     "text": [
      "Subject1 =  98\n",
      "Subject2 =  87\n",
      "Subject3 =  95\n",
      "Subject4 =  95\n",
      "Subject5 =  93\n"
     ]
    },
    {
     "name": "stdout",
     "output_type": "stream",
     "text": [
      "Total: 468\n",
      "Percentage =  93.6\n"
     ]
    }
   ],
   "source": [
    "Percentage()"
   ]
  },
  {
   "cell_type": "markdown",
   "id": "ddc10a89-1643-4bb9-9a6d-65b87774f93f",
   "metadata": {},
   "source": [
    "### Print area and perimeter of triangle using class and functions"
   ]
  },
  {
   "cell_type": "code",
   "execution_count": 13,
   "id": "627a0ad7-ca5b-4b3b-9e6a-b27a54cb7e44",
   "metadata": {},
   "outputs": [],
   "source": [
    "def triangle():\n",
    "    height = int(input(\"Height : \"))\n",
    "    breadth = int(input(\"Breadth : \"))\n",
    "    print(\"Area formula: (Height*Breadth)/2\")\n",
    "    AreaofTriangle = print(\"Area of Triangle = \", (height*breadth)/2)\n",
    "    Triangle = AreaofTriangle\n",
    "\n",
    "    height1 = int(input(\"Height1 : \"))\n",
    "    height2 = int(input(\"Height2 : \"))\n",
    "    breadth = int(input(\"Breadth : \"))\n",
    "    print(\"Perimeter formula: Height1+Height2+Breadth\")\n",
    "    PerimeterofTriangle = print(\"Perimeter of Triangle: \", height1+height2+breadth)\n",
    "    Triangle = PerimeterofTriangle\n",
    "    return Triangle"
   ]
  },
  {
   "cell_type": "code",
   "execution_count": 14,
   "id": "ffa8ed45-fbb5-4c0b-9da9-e011214c28db",
   "metadata": {},
   "outputs": [
    {
     "name": "stdin",
     "output_type": "stream",
     "text": [
      "Height :  34\n",
      "Breadth :  32\n"
     ]
    },
    {
     "name": "stdout",
     "output_type": "stream",
     "text": [
      "Area formula: (Height*Breadth)/2\n",
      "Area of Triangle =  544.0\n"
     ]
    },
    {
     "name": "stdin",
     "output_type": "stream",
     "text": [
      "Height1 :  2\n",
      "Height2 :  4\n",
      "Breadth :  4\n"
     ]
    },
    {
     "name": "stdout",
     "output_type": "stream",
     "text": [
      "Perimeter formula: Height1+Height2+Breadth\n",
      "Perimeter of Triangle:  10\n"
     ]
    }
   ],
   "source": [
    "triangle()"
   ]
  },
  {
   "cell_type": "code",
   "execution_count": null,
   "id": "329c2afb-6aad-4a54-ae76-970d059009e3",
   "metadata": {},
   "outputs": [],
   "source": []
  },
  {
   "cell_type": "code",
   "execution_count": null,
   "id": "1c39c3cf-e2b1-42a5-bb0e-f6c729aafad4",
   "metadata": {},
   "outputs": [],
   "source": []
  }
 ],
 "metadata": {
  "kernelspec": {
   "display_name": "Python 3 (ipykernel)",
   "language": "python",
   "name": "python3"
  },
  "language_info": {
   "codemirror_mode": {
    "name": "ipython",
    "version": 3
   },
   "file_extension": ".py",
   "mimetype": "text/x-python",
   "name": "python",
   "nbconvert_exporter": "python",
   "pygments_lexer": "ipython3",
   "version": "3.12.4"
  }
 },
 "nbformat": 4,
 "nbformat_minor": 5
}
