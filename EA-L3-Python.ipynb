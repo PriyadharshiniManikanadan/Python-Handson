{
 "cells": [
  {
   "cell_type": "markdown",
   "id": "f4c45a4e-c90e-44dd-8baf-5b4877b41f0e",
   "metadata": {},
   "source": [
    "### Print 'CORRECT' if i == 10"
   ]
  },
  {
   "cell_type": "code",
   "execution_count": 6,
   "id": "d42081ff-2ff2-45b6-b2d1-5f0a422f54c7",
   "metadata": {},
   "outputs": [
    {
     "name": "stdout",
     "output_type": "stream",
     "text": [
      "value : 10\n",
      "Correct\n"
     ]
    }
   ],
   "source": [
    "i = 10\n",
    "print(\"value :\", i)\n",
    "if i == 10:\n",
    "    print(\"Correct\")"
   ]
  },
  {
   "cell_type": "markdown",
   "id": "df159120-41a7-4aa5-bebf-8aaafa72c64b",
   "metadata": {},
   "source": [
    "### Check the password, using if and else\n"
   ]
  },
  {
   "cell_type": "code",
   "execution_count": 17,
   "id": "eacb399c-6747-4829-971a-e15e7e9e6d1b",
   "metadata": {},
   "outputs": [
    {
     "name": "stdin",
     "output_type": "stream",
     "text": [
      "Enter the password: Priya\n"
     ]
    },
    {
     "name": "stdout",
     "output_type": "stream",
     "text": [
      "Your password is incorrect\n"
     ]
    }
   ],
   "source": [
    "password = input(\"Enter the password:\")\n",
    "if password==\"HOPE@123\":\n",
    "    print(\"Your password is correct\")\n",
    "else:\n",
    "    print(\"Your password is incorrect\")"
   ]
  },
  {
   "cell_type": "code",
   "execution_count": 18,
   "id": "0476a71e-552e-434e-b81e-918339e94676",
   "metadata": {},
   "outputs": [
    {
     "name": "stdin",
     "output_type": "stream",
     "text": [
      "Enter the password: HOPE@123\n"
     ]
    },
    {
     "name": "stdout",
     "output_type": "stream",
     "text": [
      "Your password is correct\n"
     ]
    }
   ],
   "source": [
    "password = input(\"Enter the password:\")\n",
    "if password==\"HOPE@123\":\n",
    "    print(\"Your password is correct\")\n",
    "else:\n",
    "    print(\"Your password is incorrect\")"
   ]
  },
  {
   "cell_type": "markdown",
   "id": "fb891bd4-b16b-407e-b4a6-139cc45c6543",
   "metadata": {},
   "source": [
    "### Catagory the people by their age like children, adult, citizen, senior citizen..."
   ]
  },
  {
   "cell_type": "code",
   "execution_count": 20,
   "id": "2e48e2c9-cb14-434d-836f-745dda43a59a",
   "metadata": {},
   "outputs": [
    {
     "name": "stdin",
     "output_type": "stream",
     "text": [
      "age:  20\n"
     ]
    },
    {
     "name": "stdout",
     "output_type": "stream",
     "text": [
      "Adult\n"
     ]
    }
   ],
   "source": [
    "age = int(input(\"age: \"))\n",
    "if (age <= 18):\n",
    "    print(\"children\")\n",
    "elif (age <= 35):\n",
    "    print(\"Adult\")\n",
    "elif(age <= 68):\n",
    "    print(\"Citizen\")\n",
    "else:\n",
    "    print(\"Senior Citizen\")"
   ]
  },
  {
   "cell_type": "markdown",
   "id": "129bd93a-95ef-49a7-b55a-f57368af4506",
   "metadata": {},
   "source": [
    "### Find whether given number is positive or negative"
   ]
  },
  {
   "cell_type": "code",
   "execution_count": 21,
   "id": "467a50af-26bc-4389-aa37-f2102fe04cb6",
   "metadata": {},
   "outputs": [
    {
     "name": "stdin",
     "output_type": "stream",
     "text": [
      "Enter any number:  2\n"
     ]
    },
    {
     "name": "stdout",
     "output_type": "stream",
     "text": [
      "No is Positive\n"
     ]
    }
   ],
   "source": [
    "nums = int(input(\"Enter any number: \"))\n",
    "if (nums >= 0):\n",
    "    print(\"No is Positive\")\n",
    "else:\n",
    "    print(\"No is Negative\")"
   ]
  },
  {
   "cell_type": "code",
   "execution_count": 22,
   "id": "792b1777-2595-4a12-b7c1-c6efc2789c81",
   "metadata": {},
   "outputs": [
    {
     "name": "stdin",
     "output_type": "stream",
     "text": [
      "Enter any number:  -5\n"
     ]
    },
    {
     "name": "stdout",
     "output_type": "stream",
     "text": [
      "No is Negative\n"
     ]
    }
   ],
   "source": [
    "nums = int(input(\"Enter any number: \"))\n",
    "if (nums >= 0):\n",
    "    print(\"No is Positive\")\n",
    "else:\n",
    "    print(\"No is Negative\")"
   ]
  },
  {
   "cell_type": "markdown",
   "id": "a832ecc4-2f62-47bd-ab26-8f9029fb8345",
   "metadata": {},
   "source": [
    "### Check whether the given number is divisible by 5"
   ]
  },
  {
   "cell_type": "code",
   "execution_count": 29,
   "id": "e3566945-d497-467d-9550-9c732df62012",
   "metadata": {},
   "outputs": [
    {
     "name": "stdin",
     "output_type": "stream",
     "text": [
      "Enter a number to check:  70\n"
     ]
    },
    {
     "name": "stdout",
     "output_type": "stream",
     "text": [
      "Yes, num is divisible by 5\n"
     ]
    }
   ],
   "source": [
    "num = int(input(\"Enter a number to check: \"))\n",
    "if (num % 5) == 0:\n",
    "    print(\"Yes, num is divisible by 5\")\n",
    "else:\n",
    "    print(\"No, num is not divisible by 5\")"
   ]
  },
  {
   "cell_type": "code",
   "execution_count": 30,
   "id": "d6a0e70a-2285-49e9-b92f-37edd1e123d5",
   "metadata": {},
   "outputs": [
    {
     "name": "stdin",
     "output_type": "stream",
     "text": [
      "Enter a number to check:  26\n"
     ]
    },
    {
     "name": "stdout",
     "output_type": "stream",
     "text": [
      "No, num is not divisible by 5\n"
     ]
    }
   ],
   "source": [
    "num = int(input(\"Enter a number to check: \"))\n",
    "if (num % 5) == 0:\n",
    "    print(\"Yes, num is divisible by 5\")\n",
    "else:\n",
    "    print(\"No, num is not divisible by 5\")"
   ]
  },
  {
   "cell_type": "code",
   "execution_count": null,
   "id": "49266a04-d1ef-4c59-aee5-e8c395033fe7",
   "metadata": {},
   "outputs": [],
   "source": []
  }
 ],
 "metadata": {
  "kernelspec": {
   "display_name": "Python 3 (ipykernel)",
   "language": "python",
   "name": "python3"
  },
  "language_info": {
   "codemirror_mode": {
    "name": "ipython",
    "version": 3
   },
   "file_extension": ".py",
   "mimetype": "text/x-python",
   "name": "python",
   "nbconvert_exporter": "python",
   "pygments_lexer": "ipython3",
   "version": "3.12.4"
  }
 },
 "nbformat": 4,
 "nbformat_minor": 5
}
